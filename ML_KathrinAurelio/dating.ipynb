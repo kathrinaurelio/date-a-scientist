{
 "cells": [
  {
   "cell_type": "code",
   "execution_count": 97,
   "metadata": {},
   "outputs": [
    {
     "name": "stdout",
     "output_type": "stream",
     "text": [
      "<class 'pandas.core.frame.DataFrame'>\n",
      "RangeIndex: 59946 entries, 0 to 59945\n",
      "Data columns (total 31 columns):\n",
      "age            59946 non-null int64\n",
      "body_type      54650 non-null object\n",
      "diet           35551 non-null object\n",
      "drinks         56961 non-null object\n",
      "drugs          45866 non-null object\n",
      "education      53318 non-null object\n",
      "essay0         54458 non-null object\n",
      "essay1         52374 non-null object\n",
      "essay2         50308 non-null object\n",
      "essay3         48470 non-null object\n",
      "essay4         49409 non-null object\n",
      "essay5         49096 non-null object\n",
      "essay6         46175 non-null object\n",
      "essay7         47495 non-null object\n",
      "essay8         40721 non-null object\n",
      "essay9         47343 non-null object\n",
      "ethnicity      54266 non-null object\n",
      "height         59943 non-null float64\n",
      "income         59946 non-null int64\n",
      "job            51748 non-null object\n",
      "last_online    59946 non-null object\n",
      "location       59946 non-null object\n",
      "offspring      24385 non-null object\n",
      "orientation    59946 non-null object\n",
      "pets           40025 non-null object\n",
      "religion       39720 non-null object\n",
      "sex            59946 non-null object\n",
      "sign           48890 non-null object\n",
      "smokes         54434 non-null object\n",
      "speaks         59896 non-null object\n",
      "status         59946 non-null object\n",
      "dtypes: float64(1), int64(2), object(28)\n",
      "memory usage: 14.2+ MB\n",
      "None\n",
      "32.3402895939679\n",
      "m    35829\n",
      "f    24117\n",
      "Name: sex, dtype: int64\n"
     ]
    }
   ],
   "source": [
    "import pandas as pd\n",
    "import numpy as np\n",
    "from matplotlib import pyplot as plt\n",
    "from sklearn.preprocessing import MinMaxScaler\n",
    "\n",
    "#Create your df here:\n",
    "df = pd.read_csv(\"profiles.csv\")\n",
    "\n",
    "#Explore the data\n",
    "print(df.info())\n",
    "#print(df.job.head())\n",
    "#print(df.drinks.head())\n",
    "#print(df.head())\n",
    "#print(df.iloc[0])\n",
    "print(df.age.mean())\n",
    "body_type = df.body_type.value_counts()\n",
    "#print(body_type)\n",
    "#print(diet)\n",
    "diet = df.diet.value_counts()\n",
    "drinks = df.drinks.value_counts()\n",
    "drugs = df.drugs.value_counts()\n",
    "education = df.education.value_counts()\n",
    "ethnicity = df.ethnicity.value_counts()\n",
    "height = df.height.value_counts()\n",
    "income = df.income.value_counts()\n",
    "job = df.job.value_counts()\n",
    "offspring = df.offspring.value_counts()\n",
    "orientation = df.orientation.value_counts()\n",
    "pets = df.pets.value_counts()\n",
    "religion = df.religion.value_counts()\n",
    "sex = df.sex.value_counts()\n",
    "sign = df.sign.value_counts()\n",
    "smokes = df.smokes.value_counts()\n",
    "speaks = df.speaks.value_counts()\n",
    "status = df.status.value_counts()\n",
    "#print(df.essay9.head())\n",
    "print(sex)\n"
   ]
  },
  {
   "cell_type": "code",
   "execution_count": 76,
   "metadata": {},
   "outputs": [
    {
     "data": {
      "image/png": "[encoded data removed]",
      "text/plain": [
       "<matplotlib.figure.Figure at 0x1f51237a390>"
      ]
     },
     "metadata": {},
     "output_type": "display_data"
    }
   ],
   "source": [
    "###Visualize some of the data\n",
    "plt.hist(df.age, bins=20)\n",
    "plt.xlabel(\"Age\")\n",
    "plt.ylabel(\"Frequency\")\n",
    "plt.xlim(16, 80)\n",
    "plt.title('Age distribution')\n",
    "plt.savefig('Age_histo.png')\n",
    "plt.show()\n"
   ]
  },
  {
   "cell_type": "code",
   "execution_count": 96,
   "metadata": {},
   "outputs": [
    {
     "data": {
      "image/png": "[encoded data removed]",
      "text/plain": [
       "<matplotlib.figure.Figure at 0x1f557f61da0>"
      ]
     },
     "metadata": {},
     "output_type": "display_data"
    }
   ],
   "source": [
    "plt.pie(sex, autopct='%d%%')\n",
    "#plt.xlabel('Sex')\n",
    "#plt.ylabel('Frequency')\n",
    "plt.axis('equal')\n",
    "plt.legend(['Male', 'Female'])\n",
    "plt.title('Sex distribution')\n",
    "plt.savefig('Sex_pie.png')\n",
    "plt.show()"
   ]
  },
  {
   "cell_type": "code",
   "execution_count": 78,
   "metadata": {},
   "outputs": [],
   "source": [
    "###Formulate a Question\n",
    "#Can we predict sex with education level and income?\n",
    "#Can we predict education level with essay text word counts?\n",
    "#Can we predict the zodiac sign using drinking, smoking, drugs and essays as our features?\n",
    "##Can we predict drug use with smoking and drinking as features?\n",
    "##Can we predict drug use with word length?"
   ]
  },
  {
   "cell_type": "code",
   "execution_count": 79,
   "metadata": {},
   "outputs": [
    {
     "name": "stdout",
     "output_type": "stream",
     "text": [
      "   age       body_type               diet    drinks      drugs  \\\n",
      "0   22  a little extra  strictly anything  socially      never   \n",
      "1   35         average       mostly other     often  sometimes   \n",
      "2   38            thin           anything  socially        NaN   \n",
      "3   23            thin         vegetarian  socially        NaN   \n",
      "4   29        athletic                NaN  socially      never   \n",
      "\n",
      "                           education  \\\n",
      "0      working on college/university   \n",
      "1              working on space camp   \n",
      "2     graduated from masters program   \n",
      "3      working on college/university   \n",
      "4  graduated from college/university   \n",
      "\n",
      "                                              essay0  \\\n",
      "0  about me:<br />\\n<br />\\ni would love to think...   \n",
      "1  i am a chef: this is what that means.<br />\\n1...   \n",
      "2  i'm not ashamed of much, but writing public te...   \n",
      "3          i work in a library and go to school. . .   \n",
      "4  hey how's it going? currently vague on the pro...   \n",
      "\n",
      "                                              essay1  \\\n",
      "0  currently working as an international agent fo...   \n",
      "1  dedicating everyday to being an unbelievable b...   \n",
      "2  i make nerdy software for musicians, artists, ...   \n",
      "3          reading things written by old dead people   \n",
      "4                         work work work work + play   \n",
      "\n",
      "                                              essay2  \\\n",
      "0  making people laugh.<br />\\nranting about a go...   \n",
      "1  being silly. having ridiculous amonts of fun w...   \n",
      "2  improvising in different contexts. alternating...   \n",
      "3  playing synthesizers and organizing books acco...   \n",
      "4  creating imagery to look at:<br />\\nhttp://bag...   \n",
      "\n",
      "                                              essay3   ...     \\\n",
      "0  the way i look. i am a six foot half asian, ha...   ...      \n",
      "1                                                NaN   ...      \n",
      "2  my large jaw and large glasses are the physica...   ...      \n",
      "3                  socially awkward but i do my best   ...      \n",
      "4            i smile a lot and my inquisitive nature   ...      \n",
      "\n",
      "                                   religion sex  \\\n",
      "0     agnosticism and very serious about it   m   \n",
      "1  agnosticism but not too serious about it   m   \n",
      "2                                       NaN   m   \n",
      "3                                       NaN   m   \n",
      "4                                       NaN   m   \n",
      "\n",
      "                                 sign     smokes  \\\n",
      "0                              gemini  sometimes   \n",
      "1                              cancer         no   \n",
      "2  pisces but it doesn&rsquo;t matter         no   \n",
      "3                              pisces         no   \n",
      "4                            aquarius         no   \n",
      "\n",
      "                                              speaks     status drinks_code  \\\n",
      "0                                            english     single         2.0   \n",
      "1  english (fluently), spanish (poorly), french (...     single         3.0   \n",
      "2                               english, french, c++  available         2.0   \n",
      "3                           english, german (poorly)     single         2.0   \n",
      "4                                            english     single         2.0   \n",
      "\n",
      "   smokes_code  drugs_code sex_code  \n",
      "0          1.0         0.0        1  \n",
      "1          0.0         1.0        1  \n",
      "2          0.0         NaN        1  \n",
      "3          0.0         NaN        1  \n",
      "4          0.0         0.0        1  \n",
      "\n",
      "[5 rows x 35 columns]\n",
      "1    35829\n",
      "0    24117\n",
      "Name: sex_code, dtype: int64\n"
     ]
    }
   ],
   "source": [
    "###Augment your data\n",
    "##drinks_code\n",
    "drink_mapping = {\"not at all\": 0, \"rarely\": 1, \"socially\": 2, \"often\": 3, \"very often\": 4, \"desperately\": 5}\n",
    "df[\"drinks_code\"] = df.drinks.map(drink_mapping)\n",
    "##smokes_code\n",
    "smoke_mapping = {\"no\": 0, \"sometimes\": 1, \"when drinking\": 2, \"yes\": 3, \"trying to quit\": 4}\n",
    "df[\"smokes_code\"] = df.smokes.map(smoke_mapping)\n",
    "##drugs_code\n",
    "drugs_mapping = {\"never\": 0, \"sometimes\": 1, \"often\": 2}\n",
    "df[\"drugs_code\"] = df.drugs.map(drugs_mapping)\n",
    "##sex_code\n",
    "sex_mapping = {\"f\": 0, \"m\": 1}\n",
    "df[\"sex_code\"] = df.sex.map(sex_mapping)\n",
    "##signs_code\n",
    "#signs answers\n",
    "signs_answ = df.sign.unique()\n",
    "signs_answ = signs_answ.tolist()\n",
    "def zodiac(sign_answer):\n",
    "    words = str(sign_answer).split()\n",
    "    if words[0] == 'capricorn':\n",
    "        return 1\n",
    "    elif words[0] == 'aquarius':\n",
    "        return 2\n",
    "    elif words[0] == 'pisces':\n",
    "        return 3\n",
    "    elif words[0] == 'aries':\n",
    "        return 4\n",
    "    elif words[0] == 'taurus':\n",
    "        return 5\n",
    "    elif words[0] == 'gemini':\n",
    "        return 6\n",
    "    elif words[0] == 'cancer':\n",
    "        return 7\n",
    "    elif words[0] == 'leo':\n",
    "        return 8\n",
    "    elif words[0] == 'virgo':\n",
    "        return 9\n",
    "    elif words[0] == 'libra':\n",
    "        return 10\n",
    "    elif words[0] == 'scorpio':\n",
    "        return 11\n",
    "    elif words[0] == 'sagittarius':\n",
    "        return 12\n",
    "    \n",
    "#print(type(signs_answ))\n",
    "#print(signs_answ)\n",
    "#print(zodiac(signs_answ))\n",
    "#signs_mapping = {'leo': 8, \"leo and it's fun to think about\": 8, \"leo but it doesn't matter\": 8, \"leo and it matters a lot\": 8, 'libra': 10, \"libra and it's fun to think about\": 10, \"libra but it doesn't matter\": 10, \"libra and it matters a lot\": 10, 'cancer': 7, \"cancer and it's fun to think about\": 7, \"cancer but it doesn't matter\": 7, \"cancer and it matters a lot\": 7, 'virgo': 9, \"virgo and it's fun to think about\": 9, \"virgo but it doesn't matter\": 9, \"virgo and it matters a lot\": 9, 'scorpio': 11, \"scorpio and it's fun to think about\": 11, \"scorpio but it doesn't matter\": 11, \"scorpio and it matters a lot\": 11, 'gemini': 6, \"gemini and it's fun to think about\": 6, \"gemini but it doesn't matter\": 6, \"gemini and it matters a lot\": 6, 'taurus': 5, \"taurus and it's fun to think about\": 5, \"taurus but it doesn't matter\": 5, \"taurus and it matters a lot\": 5, 'aries': 4, \"aries and it's fun to think about\": 4, \"aries but it doesn't matter\": 4, \"aries and it matters a lot\": 4, 'pisces': 3, \"pisces and it's fun to think about\": 3, \"pisces but it doesn't matter\": 3, \"pisces and it matters a lot\": 3, 'aquarius': 2, \"aquarius and it's fun to think about\": 2, \"aquarius but it doesn't matter\": 2, \"aquarius and it matters a lot\": 2, 'sagittarius': 12, \"sagittarius and it's fun to think about\": 12, \"sagittarius but it doesn't matter\": 12, \"sagittarius and it matters a lot\": 12, 'capricorn': 1, \"capricorn and it's fun to think about\": 1, \"capricorn but it doesn't matter\": 1, \"capricorn and it matters a lot\": 1 }\n",
    "#df[\"sign_code\"] = df.sign.map(signs_mapping)\n",
    "print(df.head())\n",
    "print(df.sex_code.value_counts())\n"
   ]
  },
  {
   "cell_type": "code",
   "execution_count": 100,
   "metadata": {},
   "outputs": [
    {
     "name": "stdout",
     "output_type": "stream",
     "text": [
      "   age       body_type               diet    drinks      drugs  \\\n",
      "0   22  a little extra  strictly anything  socially      never   \n",
      "1   35         average       mostly other     often  sometimes   \n",
      "2   38            thin           anything  socially        NaN   \n",
      "3   23            thin         vegetarian  socially        NaN   \n",
      "4   29        athletic                NaN  socially      never   \n",
      "\n",
      "                           education  \\\n",
      "0      working on college/university   \n",
      "1              working on space camp   \n",
      "2     graduated from masters program   \n",
      "3      working on college/university   \n",
      "4  graduated from college/university   \n",
      "\n",
      "                                              essay0  \\\n",
      "0  about me:<br />\\n<br />\\ni would love to think...   \n",
      "1  i am a chef: this is what that means.<br />\\n1...   \n",
      "2  i'm not ashamed of much, but writing public te...   \n",
      "3          i work in a library and go to school. . .   \n",
      "4  hey how's it going? currently vague on the pro...   \n",
      "\n",
      "                                              essay1  \\\n",
      "0  currently working as an international agent fo...   \n",
      "1  dedicating everyday to being an unbelievable b...   \n",
      "2  i make nerdy software for musicians, artists, ...   \n",
      "3          reading things written by old dead people   \n",
      "4                         work work work work + play   \n",
      "\n",
      "                                              essay2  \\\n",
      "0  making people laugh.<br />\\nranting about a go...   \n",
      "1  being silly. having ridiculous amonts of fun w...   \n",
      "2  improvising in different contexts. alternating...   \n",
      "3  playing synthesizers and organizing books acco...   \n",
      "4  creating imagery to look at:<br />\\nhttp://bag...   \n",
      "\n",
      "                                              essay3     ...      \\\n",
      "0  the way i look. i am a six foot half asian, ha...     ...       \n",
      "1                                                NaN     ...       \n",
      "2  my large jaw and large glasses are the physica...     ...       \n",
      "3                  socially awkward but i do my best     ...       \n",
      "4            i smile a lot and my inquisitive nature     ...       \n",
      "\n",
      "                                   religion sex  \\\n",
      "0     agnosticism and very serious about it   m   \n",
      "1  agnosticism but not too serious about it   m   \n",
      "2                                       NaN   m   \n",
      "3                                       NaN   m   \n",
      "4                                       NaN   m   \n",
      "\n",
      "                                 sign     smokes  \\\n",
      "0                              gemini  sometimes   \n",
      "1                              cancer         no   \n",
      "2  pisces but it doesn&rsquo;t matter         no   \n",
      "3                              pisces         no   \n",
      "4                            aquarius         no   \n",
      "\n",
      "                                              speaks     status essay_len  \\\n",
      "0                                            english     single      2635   \n",
      "1  english (fluently), spanish (poorly), french (...     single      1444   \n",
      "2                               english, french, c++  available      5508   \n",
      "3                           english, german (poorly)     single       468   \n",
      "4                                            english     single       716   \n",
      "\n",
      "   avg_word_length  frequency zodiac_code  \n",
      "0         4.537815          7         6.0  \n",
      "1         4.293040          1         7.0  \n",
      "2         5.260227          4         3.0  \n",
      "3         5.424658          0         3.0  \n",
      "4         5.459459          0         2.0  \n",
      "\n",
      "[5 rows x 35 columns]\n"
     ]
    }
   ],
   "source": [
    "##essays\n",
    "#one string\n",
    "essay_cols = [\"essay0\", \"essay1\", \"essay2\", \"essay3\", \"essay4\", \"essay5\", \"essay6\", \"essay7\", \"essay8\", \"essay9\"]\n",
    "#removing the NaNs\n",
    "all_essays = df[essay_cols].replace(np.nan, \"\", regex=True)\n",
    "#combining the essays\n",
    "all_essays = all_essays[essay_cols].apply(lambda x: ''.join(x), axis=1)\n",
    "df[\"essay_len\"] = all_essays.apply(lambda x: len(x))\n",
    "#average word length\n",
    "def av_word(inp):\n",
    "    words = inp.split()\n",
    "    if len(words) != 0:\n",
    "        average = sum(len(word) for word in words) / len(words)\n",
    "        return average\n",
    "    else:\n",
    "        return 0\n",
    "df[\"avg_word_length\"] = all_essays.apply(lambda x: av_word(x))\n",
    "\n",
    "#frequency \"I\" or \"me\"\n",
    "def frequency(inp):\n",
    "    freq = 0\n",
    "    words = inp.split()\n",
    "    words\n",
    "    for word in words:\n",
    "        word = word.strip(\".\")\n",
    "        word = word.strip(\",\")\n",
    "        word = word.strip(\"!\")\n",
    "        word = word.strip(\"?\")\n",
    "        if word == \"I\" or word == \"me\" or word == \"Me\":\n",
    "            freq += 1\n",
    "    return freq\n",
    "df[\"frequency\"] = all_essays.apply(lambda x: frequency(x))\n",
    "#zodiac column\n",
    "df[\"zodiac_code\"] = df.sign.apply(lambda x:zodiac(x))\n",
    "\n",
    "\n",
    "\n",
    "print(df.head())\n"
   ]
  },
  {
   "cell_type": "code",
   "execution_count": 101,
   "metadata": {},
   "outputs": [
    {
     "name": "stderr",
     "output_type": "stream",
     "text": [
      "C:\\Users\\KathrinAurelio\\Anaconda3\\lib\\site-packages\\numpy\\lib\\function_base.py:780: RuntimeWarning: invalid value encountered in greater_equal\n",
      "  keep = (tmp_a >= first_edge)\n",
      "C:\\Users\\KathrinAurelio\\Anaconda3\\lib\\site-packages\\numpy\\lib\\function_base.py:781: RuntimeWarning: invalid value encountered in less_equal\n",
      "  keep &= (tmp_a <= last_edge)\n"
     ]
    },
    {
     "data": {
      "image/png": "[encoded data removed]",
      "text/plain": [
       "<matplotlib.figure.Figure at 0x1f51339ee80>"
      ]
     },
     "metadata": {},
     "output_type": "display_data"
    }
   ],
   "source": [
    "###Visualize some of the data - zodiac\n",
    "plt.hist(df.zodiac_code, bins=12, range=(1, 12))\n",
    "plt.xlabel(\"Sign\")\n",
    "plt.ylabel(\"Frequency\")\n",
    "\n",
    "#plt.title('Age distribution')\n",
    "#plt.savefig('Age_histo.png')\n",
    "plt.show()"
   ]
  },
  {
   "cell_type": "code",
   "execution_count": 82,
   "metadata": {},
   "outputs": [
    {
     "name": "stdout",
     "output_type": "stream",
     "text": [
      "[[0.25       0.4        0.         0.0273715  0.07090336]\n",
      " [0.         0.6        0.5        0.01499979 0.06707875]\n",
      " [0.         0.4        0.         0.00743757 0.08530405]\n",
      " ...\n",
      " [0.         0.6        0.5        0.03103835 0.08885626]\n",
      " [0.         0.         0.         0.01915486 0.0776699 ]\n",
      " [1.         0.4        1.         0.02066107 0.07147234]]\n"
     ]
    }
   ],
   "source": [
    "###Normalize your data\n",
    "from sklearn.preprocessing import MinMaxScaler\n",
    "feature_data = df[['smokes_code', 'drinks_code', 'drugs_code', 'essay_len', 'avg_word_length']]\n",
    "x = feature_data.dropna().values\n",
    "#print(type(x))\n",
    "#print(x)\n",
    "min_max_scaler = MinMaxScaler()\n",
    "x_scaled = min_max_scaler.fit_transform(x)\n",
    "#print(x_scaled)\n",
    "\n",
    "feature_data = pd.DataFrame(x_scaled, columns=feature_data.columns)\n",
    "#print(feature_data.head())\n",
    "#print(df.head())\n",
    "##Normalize data for Zodiac question\n",
    "feature_data_zodiac = df[['smokes_code', 'drinks_code', 'drugs_code', 'essay_len', 'avg_word_length', 'zodiac_code']]\n",
    "#df for zodiac\n",
    "feature_data_zodiac = feature_data_zodiac.dropna()\n",
    "normalize_features = feature_data_zodiac[['smokes_code', 'drinks_code', 'drugs_code', 'essay_len', 'avg_word_length']]\n",
    "x_zodiac = normalize_features.values\n",
    "min_max_scaler_zodiac = MinMaxScaler()\n",
    "x_zodiac_scaled = min_max_scaler_zodiac.fit_transform(x_zodiac)\n",
    "\n",
    "\n",
    "print(x_zodiac_scaled)\n",
    "\n"
   ]
  },
  {
   "cell_type": "code",
   "execution_count": 83,
   "metadata": {},
   "outputs": [],
   "source": [
    "###Use Classification Techniques\n",
    "##K-Nearest Neighbor\n",
    "#Can we predict sex with education level and income?\n",
    "#Can we predict education level with essay text word counts?\n",
    "#Can we predict the zodiac sign using drinking, smoking, drugs and essays as our features?\n",
    "##Can we predict drug use with smoking and drinking as features?\n",
    "##Can we predict drug use with word length?\n",
    "from sklearn.neighbors import KNeighborsClassifier\n",
    "classifier_z = KNeighborsClassifier(n_neighbors=5)\n",
    "labels_z = list(feature_data_zodiac['zodiac_code'])\n",
    "points_z = list(x_zodiac_scaled)\n",
    "\n",
    "#splitting the data\n",
    "from sklearn.model_selection import train_test_split\n",
    "x_train, x_test, y_train, y_test = train_test_split(points_z, labels_z, train_size=0.8, test_size=0.2, random_state=100)\n",
    "\n",
    "#fit the data\n",
    "classifier_z.fit(x_train, y_train)\n",
    "guesses = classifier_z.predict(x_test)\n",
    "#print(guesses)\n",
    "#print(y_test)"
   ]
  },
  {
   "cell_type": "code",
   "execution_count": 84,
   "metadata": {},
   "outputs": [
    {
     "name": "stdout",
     "output_type": "stream",
     "text": [
      "0.07998313185268485\n",
      "[0.08574641551869552, 0.07478211976384594, 0.07998313185268485, 0.08138881079561427, 0.07913972448692719, 0.08138881079561427, 0.08181051447849311, 0.08504357604723081, 0.08420016868147315, 0.08546527973010964, 0.08560584762440258, 0.08560584762440258, 0.0853247118358167, 0.08841720551026146, 0.08630868709586731, 0.08673039077874613, 0.08644925499016025, 0.08799550182738262, 0.08799550182738262, 0.08574641551869552, 0.08518414394152375, 0.08490300815293787, 0.08448130447005904, 0.08124824290132134, 0.08504357604723081, 0.08391903289288727, 0.08546527973010964, 0.08518414394152375, 0.08616811920157436, 0.08321619342142254, 0.0833567613157155, 0.08743323025021085, 0.08546527973010964, 0.08588698341298848, 0.0843407365757661, 0.08490300815293787, 0.08405960078718021, 0.08363789710430138, 0.08265392184425077, 0.08476244025864492, 0.08462187236435198, 0.08223221816137194, 0.08026426764127073, 0.08349732921000844, 0.08476244025864492, 0.08616811920157436, 0.08363789710430138, 0.0843407365757661, 0.08673039077874613, 0.08546527973010964, 0.0853247118358167, 0.08630868709586731, 0.08560584762440258, 0.08462187236435198, 0.08237278605566489, 0.08349732921000844, 0.08026426764127073, 0.08265392184425077, 0.08462187236435198, 0.08588698341298848, 0.0830756255271296, 0.08405960078718021, 0.08504357604723081, 0.08616811920157436, 0.08448130447005904, 0.08349732921000844, 0.08448130447005904, 0.08237278605566489, 0.0830756255271296, 0.08237278605566489, 0.08223221816137194, 0.08124824290132134, 0.07857745290975542, 0.07913972448692719, 0.07815574922687658, 0.07871802080404836, 0.07970199606409896, 0.07857745290975542, 0.07928029238122013, 0.08138881079561427, 0.07956142816980602, 0.07871802080404836, 0.08012369974697779, 0.07970199606409896, 0.08068597132414956, 0.07942086027551307, 0.08054540342985662, 0.07745290975541186, 0.07829631712116952, 0.07928029238122013, 0.07815574922687658, 0.08152937868990723, 0.08096710711273546, 0.08124824290132134, 0.08195108237278606, 0.08321619342142254, 0.08251335394995783, 0.0808265392184425, 0.08124824290132134, 0.08026426764127073]\n",
      "[1, 3, 5, 7, 9, 11, 13, 15, 17, 19, 21, 23, 25, 27, 29, 31, 33, 35, 37, 39, 41, 43, 45, 47, 49, 51, 53, 55, 57, 59, 61, 63, 65, 67, 69, 71, 73, 75, 77, 79, 81, 83, 85, 87, 89, 91, 93, 95, 97, 99, 101, 103, 105, 107, 109, 111, 113, 115, 117, 119, 121, 123, 125, 127, 129, 131, 133, 135, 137, 139, 141, 143, 145, 147, 149, 151, 153, 155, 157, 159, 161, 163, 165, 167, 169, 171, 173, 175, 177, 179, 181, 183, 185, 187, 189, 191, 193, 195, 197, 199]\n"
     ]
    }
   ],
   "source": [
    "###Analyze Acuracy, Precision and Recall\n",
    "from sklearn.metrics import accuracy_score, recall_score, precision_score, f1_score\n",
    "accuracy_zodiac_k5 = accuracy_score(y_test, guesses)\n",
    "recall_zodiac_k5 = recall_score(y_test, guesses, average='macro')\n",
    "precision_zodiac_k5 = precision_score(y_test, guesses, average='macro')\n",
    "print(accuracy_zodiac_k5)\n",
    "#validating the model for different ks\n",
    "accuracy_z = []\n",
    "k_z = []\n",
    "\n",
    "def knn_zodiac(points, labels, k):\n",
    "    classifier = KNeighborsClassifier(n_neighbors=k)\n",
    "    x_train, x_test, y_train, y_test = train_test_split(points, labels, train_size=0.8, test_size=0.2, random_state=100)\n",
    "    classifier.fit(x_train, y_train)\n",
    "    guesses = classifier.predict(x_test)\n",
    "    accuracy = accuracy_score(y_test, guesses)\n",
    "    return accuracy\n",
    "\n",
    "for i in range(1, 200, 2):\n",
    "    accuracy_z.append(knn_zodiac(points_z, labels_z, i))\n",
    "    k_z.append(i)\n",
    "    \n",
    "\n",
    "print(accuracy_z)\n",
    "print(k_z)"
   ]
  },
  {
   "cell_type": "code",
   "execution_count": 85,
   "metadata": {},
   "outputs": [
    {
     "data": {
      "text/plain": [
       "<function matplotlib.pyplot.show>"
      ]
     },
     "execution_count": 85,
     "metadata": {},
     "output_type": "execute_result"
    },
    {
     "data": {
      "image/png": "[encoded data removed]",
      "text/plain": [
       "<matplotlib.figure.Figure at 0x1f514b16fd0>"
      ]
     },
     "metadata": {},
     "output_type": "display_data"
    }
   ],
   "source": [
    "##Graphs for comparing accuracy, precision and recall for KNN zodiac\n",
    "x_acc_zodiac = k_z\n",
    "y_acc_zodiac = accuracy_z\n",
    "plt.plot(x_acc_zodiac, y_acc_zodiac)\n",
    "# Accuracy by randomly selected sign expected to be 1/12\n",
    "x_values_acc_ran = k_z\n",
    "y_values_acc_ran = [1/12]*len(k_z)\n",
    "plt.plot(x_values_acc_ran, y_values_acc_ran)\n",
    "\n",
    "plt.xlabel('k-neighbors')\n",
    "plt.ylabel('accuracy of the model')\n",
    "plt.title('classification accuracy vs k')\n",
    "plt.legend(['accuracy of the model', 'accuracy of random selection'])\n",
    "plt.savefig('clas_accuracy_vs_k_zodiac.png')\n",
    "plt.show"
   ]
  },
  {
   "cell_type": "code",
   "execution_count": 86,
   "metadata": {},
   "outputs": [
    {
     "name": "stderr",
     "output_type": "stream",
     "text": [
      "C:\\Users\\KathrinAurelio\\Anaconda3\\lib\\site-packages\\sklearn\\utils\\validation.py:475: DataConversionWarning: Data with input dtype int64 was converted to float64 by MinMaxScaler.\n",
      "  warnings.warn(msg, DataConversionWarning)\n"
     ]
    }
   ],
   "source": [
    "##Can we predict the gender with the essay length and income?\n",
    "feature_data_essay = df[['sex_code', 'essay_len', 'income']]\n",
    "#print(feature_data_essay.income.value_counts())\n",
    "#normalizing\n",
    "normalize_feature_e = feature_data_essay[['essay_len', 'income']]\n",
    "x_essay = normalize_feature_e.values\n",
    "min_max_scaler_essay = MinMaxScaler()\n",
    "x_essay_scaled = min_max_scaler_essay.fit_transform(x_essay)\n",
    "\n",
    "points_essay = list(x_essay_scaled)\n",
    "labels_essay = list(feature_data_essay.sex_code)\n",
    "#print(labels_essay)\n",
    "#Classifier KNN\n",
    "classifier_e = KNeighborsClassifier(n_neighbors=5)\n",
    "\n",
    "#split\n",
    "xe_train, xe_test, ye_train, ye_test = train_test_split(points_essay, labels_essay, train_size=0.8, test_size=0.2, random_state=100)\n",
    "\n",
    "#fit\n",
    "classifier_e.fit(xe_train, ye_train)\n",
    "#predict\n",
    "guesses_e = classifier_e.predict(xe_test)\n",
    "\n",
    "#validate\n",
    "accuracy_essay_k5 = accuracy_score(ye_test, guesses_e)\n",
    "recall_essay_k5 = recall_score(ye_test, guesses_e)\n",
    "precision_essay_k5 = precision_score(ye_test, guesses_e)\n",
    "#print(accuracy_essay_k5)\n",
    "\n",
    "#different ks\n",
    "def knn_essay_acc(points, labels, k):\n",
    "    classifier = KNeighborsClassifier(n_neighbors=k)\n",
    "    x_train, x_test, y_train, y_test = train_test_split(points, labels, train_size=0.8, test_size=0.2, random_state=100)\n",
    "    classifier.fit(x_train, y_train)\n",
    "    guesses = classifier.predict(x_test)\n",
    "    accuracy = accuracy_score(y_test, guesses)\n",
    "    return accuracy\n",
    "                \n",
    "def knn_essay_rec(points, labels, k):\n",
    "    classifier = KNeighborsClassifier(n_neighbors=k)\n",
    "    x_train, x_test, y_train, y_test = train_test_split(points, labels, train_size=0.8, test_size=0.2, random_state=100)\n",
    "    classifier.fit(x_train, y_train)\n",
    "    guesses = classifier.predict(x_test)\n",
    "    recall = recall_score(y_test, guesses)\n",
    "    return recall\n",
    "              \n",
    "def knn_essay_pre(points, labels, k):\n",
    "    classifier = KNeighborsClassifier(n_neighbors=k)\n",
    "    x_train, x_test, y_train, y_test = train_test_split(points, labels, train_size=0.8, test_size=0.2, random_state=100)\n",
    "    classifier.fit(x_train, y_train)\n",
    "    guesses = classifier.predict(x_test)\n",
    "    precision = precision_score(y_test, guesses)\n",
    "    return precision\n",
    "\n",
    "accuracy_essay = []    \n",
    "recall_essay = []\n",
    "precision_essay = []\n",
    "for i in range(1, 100, 2):\n",
    "    accuracy_essay.append(knn_essay_acc(points_essay, labels_essay, i))\n",
    "    recall_essay.append(knn_essay_rec(points_essay, labels_essay, i))\n",
    "    precision_essay.append(knn_essay_pre(points_essay, labels_essay, i))\n",
    "    \n",
    "#print(precision_essay)\n",
    "# Accuracy by randomly selected sex expected to be 0.5\n",
    "    "
   ]
  },
  {
   "cell_type": "code",
   "execution_count": 87,
   "metadata": {},
   "outputs": [
    {
     "data": {
      "text/plain": [
       "<function matplotlib.pyplot.show>"
      ]
     },
     "execution_count": 87,
     "metadata": {},
     "output_type": "execute_result"
    },
    {
     "data": {
      "image/png": "[encoded data removed]",
      "text/plain": [
       "<matplotlib.figure.Figure at 0x1f511a1aa20>"
      ]
     },
     "metadata": {},
     "output_type": "display_data"
    }
   ],
   "source": [
    "##Graphs for comparing accuracy, precision and recall for KNN essay\n",
    "x_values_accuracy = range(1, 100, 2)\n",
    "y_values_accuracy = accuracy_essay\n",
    "plt.plot(x_values_accuracy, y_values_accuracy)\n",
    "x_values_accuracy_ran = range(1, 100, 2)\n",
    "y_values_accuracy_ran = [1/2]*50\n",
    "plt.plot(x_values_accuracy_ran, y_values_accuracy_ran)\n",
    "\n",
    "#x_values_precision = range(1, 100, 2)\n",
    "#y_values_precision = precision_essay\n",
    "#plt.plot(x_values_precision, y_values_precision)\n",
    "#x_values_recall = range(1, 100, 2)\n",
    "#y_values_recall = recall_essay\n",
    "#plt.plot(x_values_recall, y_values_recall)\n",
    "plt.xlabel('k-neighbors')\n",
    "plt.ylabel('accuracy of the model')\n",
    "plt.title('classification accuracy vs k')\n",
    "plt.legend(['accuracy of the model', 'accuracy of random selection'])\n",
    "plt.savefig('clas_accuracy_vs_k_essay.png')\n",
    "plt.show"
   ]
  },
  {
   "cell_type": "code",
   "execution_count": 88,
   "metadata": {},
   "outputs": [],
   "source": [
    "#plt.scatter(feature_data_essay[['essay_len']], feature_data_essay[['income']])\n",
    "#plt.show"
   ]
  },
  {
   "cell_type": "code",
   "execution_count": 89,
   "metadata": {},
   "outputs": [
    {
     "name": "stdout",
     "output_type": "stream",
     "text": [
      "0.6012510425354463\n"
     ]
    }
   ],
   "source": [
    "##Classifier SVM\n",
    "from sklearn.svm import SVC\n",
    "classfier_svm_e = SVC(gamma = 50, C=100)\n",
    "#no splitting here - using the same data than with KNN above\n",
    "xes_train, xes_test, yes_train, yes_test = train_test_split(points_essay, labels_essay, train_size=0.8, test_size=0.2, random_state=80)\n",
    "\n",
    "#fit\n",
    "classfier_svm_e.fit(xes_train, yes_train)\n",
    "#predict\n",
    "guesses_svm_e = classfier_svm_e.predict(xes_test)\n",
    "#validate\n",
    "accuracy_essay_svm = accuracy_score(yes_test, guesses_svm_e)\n",
    "#recall_essay_svm = recall_score(ye_test, guesses_svm_e)\n",
    "#precision_essay_svm = precision_score(ye_test, guesses_svm_e)\n",
    "print(accuracy_essay_svm)\n",
    "#print(recall_essay_svm)\n",
    "#print(precision_essay_svm)\n",
    "\n",
    "#different Cs\n",
    "def svm_essay_acc(points_train, labels_train, points_test, labels_test, c):\n",
    "    classifier = SVC(C=c)\n",
    "    classifier.fit(points_train, labels_train)\n",
    "    guesses = classifier.predict(points_test)\n",
    "    accuracy = accuracy_score(labels_test, guesses)\n",
    "    return accuracy\n",
    "\n",
    "#print('start')\n",
    "#print(svm_essay_acc(xe_train, ye_train, xe_test, ye_test, 50))\n",
    "#print('end')\n",
    "\n",
    "\n",
    "accuracy_essay_svm_loop = []\n",
    "c=0.01\n",
    "#for i in range(100):\n",
    "    #accuracy_essay_svm_loop.append(svm_essay_acc(xe_train, ye_train, xe_test, ye_test, c))\n",
    "    #print(svm_essay_acc(xe_train, ye_train, xe_test, ye_test, c))\n",
    "    #c+=0.5\n",
    "\n",
    "\n"
   ]
  },
  {
   "cell_type": "code",
   "execution_count": 90,
   "metadata": {},
   "outputs": [
    {
     "name": "stdout",
     "output_type": "stream",
     "text": [
      "start\n",
      "0.6012510425354463\n",
      "end\n"
     ]
    }
   ],
   "source": [
    "#different Cs - at the moment no point. Accuracy is always the same no matter which C\n",
    "def svm_essay_acc(points_train, labels_train, points_test, labels_test, c):\n",
    "    classifier = SVC(C=c)\n",
    "    classifier.fit(points_train, labels_train)\n",
    "    guesses = classifier.predict(points_test)\n",
    "    accuracy = accuracy_score(labels_test, guesses)\n",
    "    return accuracy\n",
    "\n",
    "print('start')\n",
    "print(svm_essay_acc(xes_train, yes_train, xes_test, yes_test, 0.1))\n",
    "print('end')\n",
    "\n",
    "\n",
    "accuracy_essay_svm_loop = []\n",
    "c=0.01\n",
    "#for i in range(100):\n",
    "    #accuracy_essay_svm_loop.append(svm_essay_acc(xe_train, ye_train, xe_test, ye_test, c))\n",
    "    #print(svm_essay_acc(xe_train, ye_train, xe_test, ye_test, c))\n",
    "    #c+=0.5"
   ]
  },
  {
   "cell_type": "code",
   "execution_count": 98,
   "metadata": {},
   "outputs": [
    {
     "name": "stdout",
     "output_type": "stream",
     "text": [
      "0.08869834129884735\n"
     ]
    }
   ],
   "source": [
    "##Classifier SVM for zodiac\n",
    "classfier_svm_z = SVC(gamma = 1, C=0.01)\n",
    "#no splitting here - using the same data than with KNN above:\n",
    "#x_train, x_test, y_train, y_test = train_test_split(points_z, labels_z, train_size=0.8, test_size=0.2, random_state=100)\n",
    "\n",
    "#fit\n",
    "classfier_svm_z.fit(x_train, y_train)\n",
    "#predict\n",
    "guesses_svm_z = classfier_svm_z.predict(x_test)\n",
    "#validate\n",
    "accuracy_zodiac_svm = accuracy_score(y_test, guesses_svm_z)\n",
    "\n",
    "print(accuracy_zodiac_svm)\n",
    "\n",
    "\n"
   ]
  },
  {
   "cell_type": "code",
   "execution_count": 105,
   "metadata": {},
   "outputs": [
    {
     "name": "stdout",
     "output_type": "stream",
     "text": [
      "1.8190642456006323e-05\n"
     ]
    }
   ],
   "source": [
    "###Linear Regression\n",
    "##Can we predict age with average word length in essays?\n",
    "from sklearn.linear_model import LinearRegression\n",
    "#Preparing the data\n",
    "\n",
    "x_lr_age =df[['avg_word_length']]\n",
    "y_lr_age = df[['age']]\n",
    "\n",
    "#print(x_lr_age.head())\n",
    "#print(y_lr_age.head())\n",
    "#Creating the model\n",
    "lr_age = LinearRegression()\n",
    "#split\n",
    "x_age_train, x_age_test, y_age_train, y_age_test = train_test_split(x_lr_age, y_lr_age, train_size=0.8, test_size=0.2)\n",
    "#fit\n",
    "lr_age.fit(x_age_train, y_age_train )\n",
    "#predict\n",
    "y_age_predicted = lr_age.predict(x_age_test)\n",
    "#print(y_age_predicted)\n",
    "#print('start')\n",
    "#Visualize\n",
    "#plt.scatter(x_lr_age, y_lr_age, alpha=0.4 )\n",
    "#plt.xlabel('Average word length')\n",
    "#plt.ylabel('Age')\n",
    "#plt.title('Average word length against age')\n",
    "#plt.show\n",
    "#print('end')\n",
    "print(lr_age.score(x_lr_age, y_lr_age))"
   ]
  },
  {
   "cell_type": "code",
   "execution_count": 106,
   "metadata": {},
   "outputs": [
    {
     "name": "stdout",
     "output_type": "stream",
     "text": [
      "start\n"
     ]
    },
    {
     "data": {
      "image/png": "[encoded data removed]",
      "text/plain": [
       "<matplotlib.figure.Figure at 0x1f557f34550>"
      ]
     },
     "metadata": {},
     "output_type": "display_data"
    },
    {
     "name": "stdout",
     "output_type": "stream",
     "text": [
      "end\n",
      "-3.3842598599065354e-06\n"
     ]
    }
   ],
   "source": [
    "###Linear Regression\n",
    "##Can we predict age with income?\n",
    "\n",
    "#Preparing the data\n",
    "\n",
    "x_lr_age_i =df[['income']]\n",
    "y_lr_age_i = df[['age']]\n",
    "\n",
    "#Creating the model\n",
    "lr_age_i = LinearRegression()\n",
    "#split\n",
    "x_age_i_train, x_age_i_test, y_age_i_train, y_age_i_test = train_test_split(x_lr_age_i, y_lr_age_i, train_size=0.8, test_size=0.2)\n",
    "#fit\n",
    "lr_age_i.fit(x_age_i_train, y_age_i_train )\n",
    "#predict\n",
    "y_age_i_predicted = lr_age_i.predict(x_age_i_test)\n",
    "#print(y_age_predicted)\n",
    "print('start')\n",
    "#Visualize\n",
    "plt.scatter(x_lr_age_i, y_lr_age_i, alpha=0.4 )\n",
    "plt.xlabel('Income')\n",
    "plt.ylabel('Age')\n",
    "plt.title('Income against age')\n",
    "plt.show()\n",
    "print('end')\n",
    "print(lr_age_i.score(x_lr_age_i, y_lr_age_i))"
   ]
  },
  {
   "cell_type": "code",
   "execution_count": 112,
   "metadata": {},
   "outputs": [
    {
     "name": "stdout",
     "output_type": "stream",
     "text": [
      "0.41867642739334776\n"
     ]
    }
   ],
   "source": [
    "###K-Nearest Neighbor Regressor\n",
    "##Can we predict age with average word length in essays?\n",
    "from sklearn.neighbors import KNeighborsRegressor\n",
    "#Preparing the data\n",
    "\n",
    "x_knr_age =df[['avg_word_length']]\n",
    "y_knr_age = df[['age']]\n",
    "\n",
    "#print(x_lr_age.head())\n",
    "#print(y_lr_age.head())\n",
    "#Creating the model\n",
    "knr_age = KNeighborsRegressor(n_neighbors=3, weights=\"distance\")\n",
    "#split\n",
    "x_knr_age_train, x_knr_age_test, y_knr_age_train, y_knr_age_test = train_test_split(x_knr_age, y_knr_age, train_size=0.8, test_size=0.2)\n",
    "#fit\n",
    "knr_age.fit(x_knr_age_train, y_knr_age_train )\n",
    "#predict\n",
    "y_knr_age_predicted = knr_age.predict(x_knr_age_test)\n",
    "#print(y_age_predicted)\n",
    "#print('start')\n",
    "#validation: Accuracy etc are classification metrics. They can't be used with regression!\n",
    "val_knnr_age = knr_age.score(x_knr_age, y_knr_age)\n",
    "#Visualize\n",
    "#plt.scatter(x_knr_age, y_knr_age, alpha=0.4 )\n",
    "#plt.xlabel('Average')\n",
    "#plt.ylabel('Age')\n",
    "#plt.title('Average against age')\n",
    "#plt.show()\n",
    "#print('end')\n",
    "print(val_knnr_age)"
   ]
  },
  {
   "cell_type": "code",
   "execution_count": 113,
   "metadata": {},
   "outputs": [],
   "source": [
    "#Multilinear regression\n",
    "##Can we predict age with average word length and length in essays?"
   ]
  },
  {
   "cell_type": "code",
   "execution_count": null,
   "metadata": {},
   "outputs": [],
   "source": []
  }
 ],
 "metadata": {
  "kernelspec": {
   "display_name": "Python 3",
   "language": "python",
   "name": "python3"
  },
  "language_info": {
   "codemirror_mode": {
    "name": "ipython",
    "version": 3
   },
   "file_extension": ".py",
   "mimetype": "text/x-python",
   "name": "python",
   "nbconvert_exporter": "python",
   "pygments_lexer": "ipython3",
   "version": "3.6.4"
  }
 },
 "nbformat": 4,
 "nbformat_minor": 2
}
